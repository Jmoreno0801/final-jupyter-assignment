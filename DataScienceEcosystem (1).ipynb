{
 "cells": [
  {
   "cell_type": "markdown",
   "id": "e3e540bb-c0d3-4a71-91f2-adf2491ebc65",
   "metadata": {},
   "source": [
    "Data Science Tools and Ecosystem using HI style heading "
   ]
  },
  {
   "cell_type": "markdown",
   "id": "6f588c93-e866-46f1-8a8d-21f6b0654158",
   "metadata": {
    "editable": true,
    "slideshow": {
     "slide_type": ""
    },
    "tags": []
   },
   "source": [
    "<b> Objectives: <b>\n",
    "- List popular languages for Data Science\n",
    "- List commonly used librarires for Data Science\n",
    "- List Data Science Tools"
   ]
  },
  {
   "cell_type": "markdown",
   "id": "bde428a3-b78a-4943-8d36-c4d8da3f7ea8",
   "metadata": {},
   "source": [
    "In this notebook, Data Science Tools and Ecosystem are summarized"
   ]
  },
  {
   "cell_type": "markdown",
   "id": "16b1da4a-3d73-4d6e-9b27-479ac6d4f604",
   "metadata": {},
   "source": [
    "Some of the popular languages that Data Scientist use are:"
   ]
  },
  {
   "cell_type": "markdown",
   "id": "c2e26b97-4787-4173-ba28-f52f42f89de6",
   "metadata": {},
   "source": [
    "1. Python\n",
    "2. R\n",
    "3. SQL"
   ]
  },
  {
   "cell_type": "markdown",
   "id": "b9d6b1a6-f1fe-4b23-963a-5868b082e9af",
   "metadata": {},
   "source": [
    "Some of the commonly used libraries used by Data Scientist include:"
   ]
  },
  {
   "cell_type": "markdown",
   "id": "eadb43b3-a25c-443b-a05e-c69086490c3c",
   "metadata": {},
   "source": [
    "1. Matplotlib\n",
    "2. NumPy\n",
    "3. Pandas"
   ]
  },
  {
   "cell_type": "markdown",
   "id": "2df42293-dce4-4cfa-9042-3292dbeda99b",
   "metadata": {},
   "source": [
    "Data Science Tools:\n",
    "Jupyter Notebook\n",
    "TensorFlow \n",
    "Numply"
   ]
  },
  {
   "cell_type": "markdown",
   "id": "e4c693a9-8a67-476e-b31f-cbb190162615",
   "metadata": {},
   "source": [
    "### Below are a few examples of evaluating arithmetic expressions in python\n"
   ]
  },
  {
   "cell_type": "code",
   "execution_count": 1,
   "id": "2f0691db-b42d-436d-aac2-bdba4b484812",
   "metadata": {},
   "outputs": [
    {
     "data": {
      "text/plain": [
       "17"
      ]
     },
     "execution_count": 1,
     "metadata": {},
     "output_type": "execute_result"
    }
   ],
   "source": [
    "# this is a simple arithmetic expression multiply then add integers\n",
    "(3*4)+5\n"
   ]
  },
  {
   "cell_type": "code",
   "execution_count": 2,
   "id": "f18815c0-a643-4249-864a-2fb2510a68b8",
   "metadata": {},
   "outputs": [
    {
     "data": {
      "text/plain": [
       "3.3333333333333335"
      ]
     },
     "execution_count": 2,
     "metadata": {},
     "output_type": "execute_result"
    }
   ],
   "source": [
    "# This will convert 200 minutes to hours by diving bt 60\n",
    "(200/60) "
   ]
  },
  {
   "cell_type": "markdown",
   "id": "87ce99cc-8331-4c20-97df-86dc81357f73",
   "metadata": {},
   "source": [
    "## Author \n",
    "Jesse Moreno"
   ]
  },
  {
   "cell_type": "code",
   "execution_count": null,
   "id": "df135cff-ced1-4190-a8b4-49949336e052",
   "metadata": {},
   "outputs": [],
   "source": []
  }
 ],
 "metadata": {
  "kernelspec": {
   "display_name": "Python 3 (ipykernel)",
   "language": "python",
   "name": "python3"
  },
  "language_info": {
   "codemirror_mode": {
    "name": "ipython",
    "version": 3
   },
   "file_extension": ".py",
   "mimetype": "text/x-python",
   "name": "python",
   "nbconvert_exporter": "python",
   "pygments_lexer": "ipython3",
   "version": "3.11.9"
  }
 },
 "nbformat": 4,
 "nbformat_minor": 5
}
